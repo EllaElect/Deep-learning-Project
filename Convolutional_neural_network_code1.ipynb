{
  "nbformat": 4,
  "nbformat_minor": 0,
  "metadata": {
    "colab": {
      "provenance": [],
      "authorship_tag": "ABX9TyO+UPD3oBJHOpJX+XJPXhoT",
      "include_colab_link": true
    },
    "kernelspec": {
      "name": "python3",
      "display_name": "Python 3"
    },
    "language_info": {
      "name": "python"
    }
  },
  "cells": [
    {
      "cell_type": "markdown",
      "metadata": {
        "id": "view-in-github",
        "colab_type": "text"
      },
      "source": [
        "<a href=\"https://colab.research.google.com/github/EllaElect/Deep-learning-Project/blob/main/Convolutional_neural_network_code1.ipynb\" target=\"_parent\"><img src=\"https://colab.research.google.com/assets/colab-badge.svg\" alt=\"Open In Colab\"/></a>"
      ]
    },
    {
      "cell_type": "code",
      "execution_count": 59,
      "metadata": {
        "id": "lqqk18a4pqCw"
      },
      "outputs": [],
      "source": [
        "import torch\n",
        "import torch.nn as nn\n",
        "import torch.nn.functional as f\n",
        "import pandas as pd\n",
        "from torch.utils.data import DataLoader\n",
        "from torchvision import datasets, transforms\n",
        "from torchvision.utils import make_grid\n",
        "from sklearn.metrics import confusion_matrix\n",
        "import numpy as np\n",
        "import matplotlib.pyplot as plt\n",
        "%matplotlib inline\n",
        "from torchvision.datasets import MNIST"
      ]
    },
    {
      "cell_type": "code",
      "source": [
        "#convert MNIST image files into a Tensor of 4-Demensions (no. of images, height, width, colour channels)\n",
        "transform = transforms.ToTensor()"
      ],
      "metadata": {
        "id": "WgQBUuGN764b"
      },
      "execution_count": 49,
      "outputs": []
    },
    {
      "cell_type": "code",
      "source": [
        "#training the data\n",
        "train_data = datasets.MNIST(root='/cnn_data', train=True, download=True, transform = transform)"
      ],
      "metadata": {
        "id": "biq4Etbp9kvG"
      },
      "execution_count": 62,
      "outputs": []
    },
    {
      "cell_type": "code",
      "source": [
        "#training the data\n",
        "test_data = datasets.MNIST(root='/cnn_data', train=False, download=True, transform = transform)"
      ],
      "metadata": {
        "id": "043vT8MQ_VFZ"
      },
      "execution_count": 63,
      "outputs": []
    },
    {
      "cell_type": "code",
      "source": [
        "train_data"
      ],
      "metadata": {
        "colab": {
          "base_uri": "https://localhost:8080/"
        },
        "id": "B3ZchS63AdIx",
        "outputId": "ea420da0-e17b-42af-c8e9-1a645b1f86d7"
      },
      "execution_count": 52,
      "outputs": [
        {
          "output_type": "execute_result",
          "data": {
            "text/plain": [
              "Dataset MNIST\n",
              "    Number of datapoints: 60000\n",
              "    Root location: /cnn_data\n",
              "    Split: Train\n",
              "    StandardTransform\n",
              "Transform: <module 'torchvision.transforms' from '/usr/local/lib/python3.10/dist-packages/torchvision/transforms/__init__.py'>"
            ]
          },
          "metadata": {},
          "execution_count": 52
        }
      ]
    },
    {
      "cell_type": "code",
      "source": [
        "test_data"
      ],
      "metadata": {
        "colab": {
          "base_uri": "https://localhost:8080/"
        },
        "id": "2vOdb87PAj7k",
        "outputId": "e07dd297-bb43-4269-9eef-ba614f298081"
      },
      "execution_count": 53,
      "outputs": [
        {
          "output_type": "execute_result",
          "data": {
            "text/plain": [
              "Dataset MNIST\n",
              "    Number of datapoints: 10000\n",
              "    Root location: /cnn_data\n",
              "    Split: Test\n",
              "    StandardTransform\n",
              "Transform: <module 'torchvision.transforms' from '/usr/local/lib/python3.10/dist-packages/torchvision/transforms/__init__.py'>"
            ]
          },
          "metadata": {},
          "execution_count": 53
        }
      ]
    },
    {
      "cell_type": "code",
      "source": [
        "# creating a small batch size for images.... let's say 10\n",
        "train_loader =  DataLoader(train_data, batch_size=10, shuffle=True)\n",
        "test_loader =  DataLoader(test_data, batch_size=10, shuffle=False)"
      ],
      "metadata": {
        "id": "2W10P_atFK50"
      },
      "execution_count": 54,
      "outputs": []
    },
    {
      "cell_type": "code",
      "source": [
        "#Define the convolutional Model\n",
        "#Describe convolutional layer and what it is doing(2 convolutional layer)\n",
        "#Example\n",
        "conv1 = nn.Conv2d(1, 6, 3, 1)\n",
        "conv2 = nn.Conv2d(6, 16, 3, 1)"
      ],
      "metadata": {
        "id": "Tadf7kwPFPLz"
      },
      "execution_count": 73,
      "outputs": []
    },
    {
      "cell_type": "code",
      "source": [
        "#grab 1 MNIST record/image\n",
        "for i, (X_Train, y_train) in enumerate(train_data):\n",
        "    break"
      ],
      "metadata": {
        "id": "Ql8SQAJGFR4J"
      },
      "execution_count": 74,
      "outputs": []
    },
    {
      "cell_type": "code",
      "source": [
        "X_Train.shape"
      ],
      "metadata": {
        "colab": {
          "base_uri": "https://localhost:8080/"
        },
        "id": "hwFVHR73FgsG",
        "outputId": "57201913-89b6-4d23-f6cd-ec9b8cbc07ee"
      },
      "execution_count": 75,
      "outputs": [
        {
          "output_type": "execute_result",
          "data": {
            "text/plain": [
              "torch.Size([1, 28, 28])"
            ]
          },
          "metadata": {},
          "execution_count": 75
        }
      ]
    },
    {
      "cell_type": "code",
      "source": [
        "x = X_Train.view(1,1,28,28)"
      ],
      "metadata": {
        "id": "avUxBqNIFmsv"
      },
      "execution_count": 76,
      "outputs": []
    },
    {
      "cell_type": "code",
      "source": [
        "# performimg first convolution\n",
        "x = f.relu(conv1(x)) #for activation function"
      ],
      "metadata": {
        "id": "tlIYUdtIFoeX"
      },
      "execution_count": 77,
      "outputs": []
    },
    {
      "cell_type": "code",
      "source": [
        "# 1 single image, 6 is the filter, 26x26\n",
        "x.shape"
      ],
      "metadata": {
        "colab": {
          "base_uri": "https://localhost:8080/"
        },
        "id": "yLa9Z5uPF35Y",
        "outputId": "0d00669a-d769-4a23-efab-0dc0d1798fc0"
      },
      "execution_count": 79,
      "outputs": [
        {
          "output_type": "execute_result",
          "data": {
            "text/plain": [
              "torch.Size([1, 6, 26, 26])"
            ]
          },
          "metadata": {},
          "execution_count": 79
        }
      ]
    },
    {
      "cell_type": "code",
      "source": [
        "# pass thru the pooling\n",
        "x = f.max_pool2d(x, 2, 2) # kernel of 2 and stride of 2"
      ],
      "metadata": {
        "id": "Iz2Fhh1nF6mx"
      },
      "execution_count": 80,
      "outputs": []
    },
    {
      "cell_type": "code",
      "source": [
        "x.shape"
      ],
      "metadata": {
        "colab": {
          "base_uri": "https://localhost:8080/"
        },
        "id": "UV1Pk2HgjIk9",
        "outputId": "e796f227-a485-4ba4-df3c-4f399d3acc8b"
      },
      "execution_count": 81,
      "outputs": [
        {
          "output_type": "execute_result",
          "data": {
            "text/plain": [
              "torch.Size([1, 6, 13, 13])"
            ]
          },
          "metadata": {},
          "execution_count": 81
        }
      ]
    },
    {
      "cell_type": "code",
      "source": [
        "# for the second convolution\n",
        "x = f.relu(conv2(x))"
      ],
      "metadata": {
        "id": "MJF7IhwHjKQ4"
      },
      "execution_count": 84,
      "outputs": []
    },
    {
      "cell_type": "code",
      "source": [
        "x.shape"
      ],
      "metadata": {
        "colab": {
          "base_uri": "https://localhost:8080/"
        },
        "id": "ajTugz3rjp_l",
        "outputId": "eaec2bfa-56d1-4916-a046-e252a1a27b65"
      },
      "execution_count": 85,
      "outputs": [
        {
          "output_type": "execute_result",
          "data": {
            "text/plain": [
              "torch.Size([1, 16, 11, 11])"
            ]
          },
          "metadata": {},
          "execution_count": 85
        }
      ]
    },
    {
      "cell_type": "code",
      "source": [
        "# second pooling\n",
        "x = f.max_pool2d(x, 2, 2)"
      ],
      "metadata": {
        "id": "pz-ry9HwkCxr"
      },
      "execution_count": 86,
      "outputs": []
    },
    {
      "cell_type": "code",
      "source": [
        "x.shape"
      ],
      "metadata": {
        "colab": {
          "base_uri": "https://localhost:8080/"
        },
        "id": "lvbm8VBzkZ9C",
        "outputId": "0fc9fe0c-c304-42fc-f337-8099e8ca0f36"
      },
      "execution_count": 88,
      "outputs": [
        {
          "output_type": "execute_result",
          "data": {
            "text/plain": [
              "torch.Size([1, 16, 5, 5])"
            ]
          },
          "metadata": {},
          "execution_count": 88
        }
      ]
    },
    {
      "cell_type": "code",
      "source": [
        "((28-2)/2-2)/2"
      ],
      "metadata": {
        "colab": {
          "base_uri": "https://localhost:8080/"
        },
        "id": "UmghZ8wSkcFD",
        "outputId": "06e3312d-049f-48e0-ea09-ee1c1beb2928"
      },
      "execution_count": 91,
      "outputs": [
        {
          "output_type": "execute_result",
          "data": {
            "text/plain": [
              "5.5"
            ]
          },
          "metadata": {},
          "execution_count": 91
        }
      ]
    },
    {
      "cell_type": "code",
      "source": [],
      "metadata": {
        "id": "glnC_hhPlwDy"
      },
      "execution_count": null,
      "outputs": []
    }
  ]
}